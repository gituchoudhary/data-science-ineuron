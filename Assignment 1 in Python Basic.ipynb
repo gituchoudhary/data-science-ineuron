{
 "cells": [
  {
   "cell_type": "markdown",
   "id": "538a0282",
   "metadata": {},
   "source": [
    "Solution 1.\n",
    "\n",
    "* - Expression\n",
    "'hello' - Value\n",
    "-87.8 - Value\n",
    "- - Expression\n",
    "/ - Expression\n",
    "+ - Expression\t\n",
    "6 - Value \n"
   ]
  },
  {
   "cell_type": "markdown",
   "id": "7e839189",
   "metadata": {},
   "source": [
    "Solution 2.\n",
    "\n",
    "The difference between string and variable is that a string is a value representing text whereas a variable is a name that \n",
    "can refer to any value. For Example,\n",
    "\n",
    "var1 = 'Geetu'\n",
    "var2 = \"Choudhary\"\n",
    "\n",
    "Here, var1 and var2 are variables. 'Geetu' and \"Choudhary\" are strings assigned to variable var1 and var2."
   ]
  },
  {
   "cell_type": "markdown",
   "id": "9b30c5a7",
   "metadata": {},
   "source": [
    "Solution 3.\n",
    "\n",
    "Three different data types are :\n",
    "1) Integers. (eg, a = 10)\n",
    "2) Floating-Point Numbers. (eg, b = 20.05)\n",
    "3) Complex Numbers (eg, a = 5 + 8j)"
   ]
  },
  {
   "cell_type": "markdown",
   "id": "22d00cdd",
   "metadata": {},
   "source": [
    "Solution 4.\n",
    "\n",
    "Expressions are made up of identifiers, literals, and operators.\n",
    "\n",
    "Identifiers: Any name that is used to define a class, function, variable module, or object is an identifier. \n",
    "\n",
    "Literals: These are language-independent terms and should exist independently in any programming language. There are the string literals, byte literals, integer literals, floating point literals, and imaginary literals. \n",
    "\n",
    "Operators: \n",
    "\n",
    "Operator\tToken\n",
    "add\t        +\n",
    "subtract\t-\n",
    "multiply\t*\n",
    "power\t    **\n",
    "Integer     /\n",
    "Division\t\n",
    "remainder\t%\n",
    "\n",
    "An expression is an instruction that combines values and operators and always evaluates down to a single value. For Example, 2 + 2. The 2s are integer values and the + is the mathematical operator. This expression evaluates down to the single integer value 4."
   ]
  },
  {
   "cell_type": "markdown",
   "id": "9982171f",
   "metadata": {},
   "source": [
    "Solution 5.\n",
    "\n",
    "Anything that evaluates to something is an expression, while on the other hand, anything that does something is a statement. \n",
    "\n",
    "Expressions always returns a value. Functions are also expressions. Even a non returning function will still return. It can print the result value.\n",
    "\n",
    "A statement never returns a value and cannot print any result.\n",
    "\n",
    "Examples Of Python Expressions: “Hello” + “World”, 4 + 5 etc.\n",
    "Examples Of Python Statements: Assignment statements, conditional branching, loops, classes, import, def, try, except, pass, del etc."
   ]
  },
  {
   "cell_type": "markdown",
   "id": "83e6568d",
   "metadata": {},
   "source": [
    "Solution 6.\n",
    "\n",
    "23"
   ]
  },
  {
   "cell_type": "markdown",
   "id": "2c2c30b1",
   "metadata": {},
   "source": [
    "Solution 7.\n",
    "\n",
    "'spam' + 'spamspam' = 'spamspamspam'\n",
    "\n",
    "'spam' * 3 = 'spamspamspam'"
   ]
  },
  {
   "cell_type": "markdown",
   "id": "8e1d407c",
   "metadata": {},
   "source": [
    "Solution 8.\n",
    "\n",
    "Because variable names cannot begin with a number."
   ]
  },
  {
   "cell_type": "markdown",
   "id": "0a944dc7",
   "metadata": {},
   "source": [
    "Solution 9.\n",
    "\n",
    "str()\n",
    "int()\n",
    "float()"
   ]
  },
  {
   "cell_type": "markdown",
   "id": "853172c7",
   "metadata": {},
   "source": [
    "Solution 10.\n",
    "\n",
    "This expression causes an error because in this line 'I have eaten ' and ' burritos.' are strings, while 99 is an integer. In order to fix the error, we need to put 99 as '99' in order to treat it as a string and thus, it would print 'I have eaten 99 burritos.'"
   ]
  }
 ],
 "metadata": {
  "kernelspec": {
   "display_name": "Python 3",
   "language": "python",
   "name": "python3"
  },
  "language_info": {
   "codemirror_mode": {
    "name": "ipython",
    "version": 3
   },
   "file_extension": ".py",
   "mimetype": "text/x-python",
   "name": "python",
   "nbconvert_exporter": "python",
   "pygments_lexer": "ipython3",
   "version": "3.8.8"
  }
 },
 "nbformat": 4,
 "nbformat_minor": 5
}
